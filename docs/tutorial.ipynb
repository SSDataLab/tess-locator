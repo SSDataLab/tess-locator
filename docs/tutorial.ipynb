{
 "cells": [
  {
   "cell_type": "markdown",
   "metadata": {},
   "source": [
    "# Getting started with `tess-locator`\n",
    "\n",
    "The `tess-locator` package is a fast and user-friendly tool which provides offline access to a minimalist database of TESS FFI meta data and WCS headers. It allows TESS pixel coordinates and FFI filenames to be queried in a fast way without requiring internet access."
   ]
  },
  {
   "cell_type": "markdown",
   "metadata": {},
   "source": [
    "## Example 1: Converting celestial to pixel coordinates\n",
    "\n",
    "The main feature of the package is the `locate()` function, which allows positions in the sky to be converted into TESS pixel coordinates.\n",
    "You can enter the Simbad name of an object:"
   ]
  },
  {
   "cell_type": "code",
   "execution_count": 1,
   "metadata": {},
   "outputs": [
    {
     "data": {
      "text/plain": [
       "List of 2 coordinates\n",
       " ↳[TessCoord(sector=11, camera=2, ccd=2, column=1700.2, row=1860.3)\n",
       "   TessCoord(sector=12, camera=2, ccd=1, column=360.7, row=1838.8)]"
      ]
     },
     "execution_count": 1,
     "metadata": {},
     "output_type": "execute_result"
    }
   ],
   "source": [
    "from tess_locator import locate\n",
    "locate(\"Alpha Cen\")"
   ]
  },
  {
   "cell_type": "markdown",
   "metadata": {},
   "source": [
    "You can pass an optional `time` or `sector` parameter if you are only interested in observations obtained at a specific time:"
   ]
  },
  {
   "cell_type": "code",
   "execution_count": 2,
   "metadata": {},
   "outputs": [
    {
     "data": {
      "text/plain": [
       "List of 1 coordinates\n",
       " ↳[TessCoord(sector=11, camera=2, ccd=2, column=1700.2, row=1860.3)]"
      ]
     },
     "execution_count": 2,
     "metadata": {},
     "output_type": "execute_result"
    }
   ],
   "source": [
    "locate(\"Alpha Cen\", time=\"2019-04-28\")"
   ]
  },
  {
   "cell_type": "code",
   "execution_count": 3,
   "metadata": {},
   "outputs": [
    {
     "data": {
      "text/plain": [
       "List of 1 coordinates\n",
       " ↳[TessCoord(sector=12, camera=2, ccd=1, column=360.7, row=1838.8)]"
      ]
     },
     "execution_count": 3,
     "metadata": {},
     "output_type": "execute_result"
    }
   ],
   "source": [
    "locate(\"Alpha Cen\", sector=12)"
   ]
  },
  {
   "cell_type": "markdown",
   "metadata": {},
   "source": [
    "In addition to passing names, you can locate a custom `SkyCoord` object containing exact coordinates:"
   ]
  },
  {
   "cell_type": "code",
   "execution_count": 4,
   "metadata": {},
   "outputs": [
    {
     "data": {
      "text/plain": [
       "List of 3 coordinates\n",
       " ↳[TessCoord(sector=19, camera=2, ccd=2, column=354.4, row=1045.8)\n",
       "   TessCoord(sector=25, camera=4, ccd=4, column=1106.2, row=286.0)\n",
       "   TessCoord(sector=26, camera=4, ccd=3, column=316.8, row=396.1)]"
      ]
     },
     "execution_count": 4,
     "metadata": {},
     "output_type": "execute_result"
    }
   ],
   "source": [
    "from astropy.coordinates import SkyCoord\n",
    "locate(SkyCoord(ra=60, dec=70, unit='deg'))"
   ]
  },
  {
   "cell_type": "markdown",
   "metadata": {},
   "source": [
    "The *locate()* function returns a list of `TessCoord` objects which can be accessed using standard list and attribute syntax:"
   ]
  },
  {
   "cell_type": "code",
   "execution_count": 5,
   "metadata": {},
   "outputs": [
    {
     "data": {
      "text/plain": [
       "(11, 2, 2, 1700.2431256761283, 1860.308236745485)"
      ]
     },
     "execution_count": 5,
     "metadata": {},
     "output_type": "execute_result"
    }
   ],
   "source": [
    "crd = locate(\"Alpha Cen\")[0]\n",
    "crd.sector, crd.camera, crd.ccd, crd.column, crd.row"
   ]
  },
  {
   "cell_type": "markdown",
   "metadata": {},
   "source": [
    "You can also access the coordinates as a Pandas DataFrame:"
   ]
  },
  {
   "cell_type": "code",
   "execution_count": 6,
   "metadata": {},
   "outputs": [
    {
     "data": {
      "text/html": [
       "<div>\n",
       "<style scoped>\n",
       "    .dataframe tbody tr th:only-of-type {\n",
       "        vertical-align: middle;\n",
       "    }\n",
       "\n",
       "    .dataframe tbody tr th {\n",
       "        vertical-align: top;\n",
       "    }\n",
       "\n",
       "    .dataframe thead th {\n",
       "        text-align: right;\n",
       "    }\n",
       "</style>\n",
       "<table border=\"1\" class=\"dataframe\">\n",
       "  <thead>\n",
       "    <tr style=\"text-align: right;\">\n",
       "      <th></th>\n",
       "      <th>sector</th>\n",
       "      <th>camera</th>\n",
       "      <th>ccd</th>\n",
       "      <th>column</th>\n",
       "      <th>row</th>\n",
       "    </tr>\n",
       "  </thead>\n",
       "  <tbody>\n",
       "    <tr>\n",
       "      <th>0</th>\n",
       "      <td>11</td>\n",
       "      <td>2</td>\n",
       "      <td>2</td>\n",
       "      <td>1700.243126</td>\n",
       "      <td>1860.308237</td>\n",
       "    </tr>\n",
       "    <tr>\n",
       "      <th>1</th>\n",
       "      <td>12</td>\n",
       "      <td>2</td>\n",
       "      <td>1</td>\n",
       "      <td>360.652320</td>\n",
       "      <td>1838.784404</td>\n",
       "    </tr>\n",
       "  </tbody>\n",
       "</table>\n",
       "</div>"
      ],
      "text/plain": [
       "   sector  camera  ccd       column          row\n",
       "0      11       2    2  1700.243126  1860.308237\n",
       "1      12       2    1   360.652320  1838.784404"
      ]
     },
     "execution_count": 6,
     "metadata": {},
     "output_type": "execute_result"
    }
   ],
   "source": [
    "locate(\"Alpha Cen\").to_pandas()"
   ]
  },
  {
   "cell_type": "markdown",
   "metadata": {},
   "source": [
    "## Example 2: Accessing FFI filenames for a pixel coordinate\n",
    "\n",
    "When you have obtained a `TessCoord` object, you can use it to obtain a list of the TESS Full Frame Images (FFIs) which covered the position: "
   ]
  },
  {
   "cell_type": "code",
   "execution_count": 7,
   "metadata": {},
   "outputs": [
    {
     "data": {
      "text/plain": [
       "List of 1248 images\n",
       " ↳[TessImage(filename='tess2019113062933-s0011-2-2-0143-s_ffic.fits', begin='2019-04-23 06:34:41', end='2019-04-23 07:04:41')\n",
       "   TessImage(filename='tess2019113065933-s0011-2-2-0143-s_ffic.fits', begin='2019-04-23 07:04:41', end='2019-04-23 07:34:41')\n",
       "   TessImage(filename='tess2019113072933-s0011-2-2-0143-s_ffic.fits', begin='2019-04-23 07:34:41', end='2019-04-23 08:04:41')\n",
       "   TessImage(filename='tess2019113075933-s0011-2-2-0143-s_ffic.fits', begin='2019-04-23 08:04:41', end='2019-04-23 08:34:41')\n",
       "   ...\n",
       "   TessImage(filename='tess2019140065932-s0011-2-2-0143-s_ffic.fits', begin='2019-05-20 07:05:08', end='2019-05-20 07:35:08')\n",
       "   TessImage(filename='tess2019140072932-s0011-2-2-0143-s_ffic.fits', begin='2019-05-20 07:35:08', end='2019-05-20 08:05:08')\n",
       "   TessImage(filename='tess2019140075932-s0011-2-2-0143-s_ffic.fits', begin='2019-05-20 08:05:08', end='2019-05-20 08:35:08')\n",
       "   TessImage(filename='tess2019140082932-s0011-2-2-0143-s_ffic.fits', begin='2019-05-20 08:35:08', end='2019-05-20 09:05:08')]"
      ]
     },
     "execution_count": 7,
     "metadata": {},
     "output_type": "execute_result"
    }
   ],
   "source": [
    "crd.get_images()"
   ]
  },
  {
   "cell_type": "markdown",
   "metadata": {},
   "source": [
    "You can convert the list to a Pandas DataFrame:"
   ]
  },
  {
   "cell_type": "code",
   "execution_count": 8,
   "metadata": {},
   "outputs": [
    {
     "data": {
      "text/html": [
       "<div>\n",
       "<style scoped>\n",
       "    .dataframe tbody tr th:only-of-type {\n",
       "        vertical-align: middle;\n",
       "    }\n",
       "\n",
       "    .dataframe tbody tr th {\n",
       "        vertical-align: top;\n",
       "    }\n",
       "\n",
       "    .dataframe thead th {\n",
       "        text-align: right;\n",
       "    }\n",
       "</style>\n",
       "<table border=\"1\" class=\"dataframe\">\n",
       "  <thead>\n",
       "    <tr style=\"text-align: right;\">\n",
       "      <th></th>\n",
       "      <th>filename</th>\n",
       "      <th>sector</th>\n",
       "      <th>camera</th>\n",
       "      <th>ccd</th>\n",
       "      <th>begin</th>\n",
       "      <th>end</th>\n",
       "      <th>url</th>\n",
       "    </tr>\n",
       "  </thead>\n",
       "  <tbody>\n",
       "    <tr>\n",
       "      <th>0</th>\n",
       "      <td>tess2019113062933-s0011-2-2-0143-s_ffic.fits</td>\n",
       "      <td>11</td>\n",
       "      <td>2</td>\n",
       "      <td>2</td>\n",
       "      <td>2019-04-23 06:34:41</td>\n",
       "      <td>2019-04-23 07:04:41</td>\n",
       "      <td>https://mast.stsci.edu/portal/Download/file?ur...</td>\n",
       "    </tr>\n",
       "    <tr>\n",
       "      <th>1</th>\n",
       "      <td>tess2019113065933-s0011-2-2-0143-s_ffic.fits</td>\n",
       "      <td>11</td>\n",
       "      <td>2</td>\n",
       "      <td>2</td>\n",
       "      <td>2019-04-23 07:04:41</td>\n",
       "      <td>2019-04-23 07:34:41</td>\n",
       "      <td>https://mast.stsci.edu/portal/Download/file?ur...</td>\n",
       "    </tr>\n",
       "    <tr>\n",
       "      <th>2</th>\n",
       "      <td>tess2019113072933-s0011-2-2-0143-s_ffic.fits</td>\n",
       "      <td>11</td>\n",
       "      <td>2</td>\n",
       "      <td>2</td>\n",
       "      <td>2019-04-23 07:34:41</td>\n",
       "      <td>2019-04-23 08:04:41</td>\n",
       "      <td>https://mast.stsci.edu/portal/Download/file?ur...</td>\n",
       "    </tr>\n",
       "    <tr>\n",
       "      <th>3</th>\n",
       "      <td>tess2019113075933-s0011-2-2-0143-s_ffic.fits</td>\n",
       "      <td>11</td>\n",
       "      <td>2</td>\n",
       "      <td>2</td>\n",
       "      <td>2019-04-23 08:04:41</td>\n",
       "      <td>2019-04-23 08:34:41</td>\n",
       "      <td>https://mast.stsci.edu/portal/Download/file?ur...</td>\n",
       "    </tr>\n",
       "    <tr>\n",
       "      <th>4</th>\n",
       "      <td>tess2019113082933-s0011-2-2-0143-s_ffic.fits</td>\n",
       "      <td>11</td>\n",
       "      <td>2</td>\n",
       "      <td>2</td>\n",
       "      <td>2019-04-23 08:34:41</td>\n",
       "      <td>2019-04-23 09:04:41</td>\n",
       "      <td>https://mast.stsci.edu/portal/Download/file?ur...</td>\n",
       "    </tr>\n",
       "    <tr>\n",
       "      <th>...</th>\n",
       "      <td>...</td>\n",
       "      <td>...</td>\n",
       "      <td>...</td>\n",
       "      <td>...</td>\n",
       "      <td>...</td>\n",
       "      <td>...</td>\n",
       "      <td>...</td>\n",
       "    </tr>\n",
       "    <tr>\n",
       "      <th>1243</th>\n",
       "      <td>tess2019140062932-s0011-2-2-0143-s_ffic.fits</td>\n",
       "      <td>11</td>\n",
       "      <td>2</td>\n",
       "      <td>2</td>\n",
       "      <td>2019-05-20 06:35:08</td>\n",
       "      <td>2019-05-20 07:05:08</td>\n",
       "      <td>https://mast.stsci.edu/portal/Download/file?ur...</td>\n",
       "    </tr>\n",
       "    <tr>\n",
       "      <th>1244</th>\n",
       "      <td>tess2019140065932-s0011-2-2-0143-s_ffic.fits</td>\n",
       "      <td>11</td>\n",
       "      <td>2</td>\n",
       "      <td>2</td>\n",
       "      <td>2019-05-20 07:05:08</td>\n",
       "      <td>2019-05-20 07:35:08</td>\n",
       "      <td>https://mast.stsci.edu/portal/Download/file?ur...</td>\n",
       "    </tr>\n",
       "    <tr>\n",
       "      <th>1245</th>\n",
       "      <td>tess2019140072932-s0011-2-2-0143-s_ffic.fits</td>\n",
       "      <td>11</td>\n",
       "      <td>2</td>\n",
       "      <td>2</td>\n",
       "      <td>2019-05-20 07:35:08</td>\n",
       "      <td>2019-05-20 08:05:08</td>\n",
       "      <td>https://mast.stsci.edu/portal/Download/file?ur...</td>\n",
       "    </tr>\n",
       "    <tr>\n",
       "      <th>1246</th>\n",
       "      <td>tess2019140075932-s0011-2-2-0143-s_ffic.fits</td>\n",
       "      <td>11</td>\n",
       "      <td>2</td>\n",
       "      <td>2</td>\n",
       "      <td>2019-05-20 08:05:08</td>\n",
       "      <td>2019-05-20 08:35:08</td>\n",
       "      <td>https://mast.stsci.edu/portal/Download/file?ur...</td>\n",
       "    </tr>\n",
       "    <tr>\n",
       "      <th>1247</th>\n",
       "      <td>tess2019140082932-s0011-2-2-0143-s_ffic.fits</td>\n",
       "      <td>11</td>\n",
       "      <td>2</td>\n",
       "      <td>2</td>\n",
       "      <td>2019-05-20 08:35:08</td>\n",
       "      <td>2019-05-20 09:05:08</td>\n",
       "      <td>https://mast.stsci.edu/portal/Download/file?ur...</td>\n",
       "    </tr>\n",
       "  </tbody>\n",
       "</table>\n",
       "<p>1248 rows × 7 columns</p>\n",
       "</div>"
      ],
      "text/plain": [
       "                                          filename  sector  camera  ccd  \\\n",
       "0     tess2019113062933-s0011-2-2-0143-s_ffic.fits      11       2    2   \n",
       "1     tess2019113065933-s0011-2-2-0143-s_ffic.fits      11       2    2   \n",
       "2     tess2019113072933-s0011-2-2-0143-s_ffic.fits      11       2    2   \n",
       "3     tess2019113075933-s0011-2-2-0143-s_ffic.fits      11       2    2   \n",
       "4     tess2019113082933-s0011-2-2-0143-s_ffic.fits      11       2    2   \n",
       "...                                            ...     ...     ...  ...   \n",
       "1243  tess2019140062932-s0011-2-2-0143-s_ffic.fits      11       2    2   \n",
       "1244  tess2019140065932-s0011-2-2-0143-s_ffic.fits      11       2    2   \n",
       "1245  tess2019140072932-s0011-2-2-0143-s_ffic.fits      11       2    2   \n",
       "1246  tess2019140075932-s0011-2-2-0143-s_ffic.fits      11       2    2   \n",
       "1247  tess2019140082932-s0011-2-2-0143-s_ffic.fits      11       2    2   \n",
       "\n",
       "                    begin                  end  \\\n",
       "0     2019-04-23 06:34:41  2019-04-23 07:04:41   \n",
       "1     2019-04-23 07:04:41  2019-04-23 07:34:41   \n",
       "2     2019-04-23 07:34:41  2019-04-23 08:04:41   \n",
       "3     2019-04-23 08:04:41  2019-04-23 08:34:41   \n",
       "4     2019-04-23 08:34:41  2019-04-23 09:04:41   \n",
       "...                   ...                  ...   \n",
       "1243  2019-05-20 06:35:08  2019-05-20 07:05:08   \n",
       "1244  2019-05-20 07:05:08  2019-05-20 07:35:08   \n",
       "1245  2019-05-20 07:35:08  2019-05-20 08:05:08   \n",
       "1246  2019-05-20 08:05:08  2019-05-20 08:35:08   \n",
       "1247  2019-05-20 08:35:08  2019-05-20 09:05:08   \n",
       "\n",
       "                                                    url  \n",
       "0     https://mast.stsci.edu/portal/Download/file?ur...  \n",
       "1     https://mast.stsci.edu/portal/Download/file?ur...  \n",
       "2     https://mast.stsci.edu/portal/Download/file?ur...  \n",
       "3     https://mast.stsci.edu/portal/Download/file?ur...  \n",
       "4     https://mast.stsci.edu/portal/Download/file?ur...  \n",
       "...                                                 ...  \n",
       "1243  https://mast.stsci.edu/portal/Download/file?ur...  \n",
       "1244  https://mast.stsci.edu/portal/Download/file?ur...  \n",
       "1245  https://mast.stsci.edu/portal/Download/file?ur...  \n",
       "1246  https://mast.stsci.edu/portal/Download/file?ur...  \n",
       "1247  https://mast.stsci.edu/portal/Download/file?ur...  \n",
       "\n",
       "[1248 rows x 7 columns]"
      ]
     },
     "execution_count": 8,
     "metadata": {},
     "output_type": "execute_result"
    }
   ],
   "source": [
    "crd.get_images().to_pandas()"
   ]
  },
  {
   "cell_type": "code",
   "execution_count": 9,
   "metadata": {},
   "outputs": [
    {
     "data": {
      "text/plain": [
       "List of 1 images\n",
       " ↳[TessImage(filename='tess2019117232932-s0011-2-2-0143-s_ffic.fits', begin='2019-04-27 23:34:50', end='2019-04-28 00:04:50')]"
      ]
     },
     "execution_count": 9,
     "metadata": {},
     "output_type": "execute_result"
    }
   ],
   "source": [
    "crd.get_images(time=\"2019-04-28 00:00:00\")"
   ]
  },
  {
   "cell_type": "markdown",
   "metadata": {},
   "source": [
    "You can access the image attributes using standard syntax:"
   ]
  },
  {
   "cell_type": "code",
   "execution_count": 10,
   "metadata": {},
   "outputs": [
    {
     "data": {
      "text/plain": [
       "('tess2019117232932-s0011-2-2-0143-s_ffic.fits',\n",
       " '2019-04-27 23:34:50',\n",
       " '2019-04-28 00:04:50')"
      ]
     },
     "execution_count": 10,
     "metadata": {},
     "output_type": "execute_result"
    }
   ],
   "source": [
    "img = crd.get_images(time=\"2019-04-28 00:00:00\")[0]\n",
    "img.filename, img.begin, img.end"
   ]
  },
  {
   "cell_type": "markdown",
   "metadata": {},
   "source": [
    "You can also obtain the full URL of the image:"
   ]
  },
  {
   "cell_type": "code",
   "execution_count": 11,
   "metadata": {},
   "outputs": [
    {
     "data": {
      "text/plain": [
       "'https://mast.stsci.edu/portal/Download/file?uri=mast:TESS/product/tess2019117232932-s0011-2-2-0143-s_ffic.fits'"
      ]
     },
     "execution_count": 11,
     "metadata": {},
     "output_type": "execute_result"
    }
   ],
   "source": [
    "img.url"
   ]
  },
  {
   "cell_type": "markdown",
   "metadata": {},
   "source": [
    "The full FFI file is often very big.  For this reason, the `TessImage` class also provides convenience methods to download just the header and WCS information.  These methods only download the first few kilobytes, so they are very fast:"
   ]
  },
  {
   "cell_type": "code",
   "execution_count": 12,
   "metadata": {},
   "outputs": [
    {
     "data": {
      "text/plain": [
       "astropy.io.fits.header.Header"
      ]
     },
     "execution_count": 12,
     "metadata": {},
     "output_type": "execute_result"
    }
   ],
   "source": [
    "hdr = img.download_header(ext=0)\n",
    "type(hdr)"
   ]
  },
  {
   "cell_type": "code",
   "execution_count": 13,
   "metadata": {},
   "outputs": [
    {
     "data": {
      "text/plain": [
       "astropy.wcs.wcs.WCS"
      ]
     },
     "execution_count": 13,
     "metadata": {},
     "output_type": "execute_result"
    }
   ],
   "source": [
    "wcs = img.download_wcs()\n",
    "type(wcs)"
   ]
  },
  {
   "cell_type": "markdown",
   "metadata": {},
   "source": [
    "## Example 3: Listing all FFIs for a sector\n",
    "\n",
    "If you don't have a `TessCoord` object, you can create your own and obtain the image list that way:"
   ]
  },
  {
   "cell_type": "code",
   "execution_count": 14,
   "metadata": {},
   "outputs": [
    {
     "data": {
      "text/plain": [
       "List of 1282 images\n",
       " ↳[TessImage(filename='tess2018206192942-s0001-1-1-0120-s_ffic.fits', begin='2018-07-25 19:37:20', end='2018-07-25 20:07:20')\n",
       "   TessImage(filename='tess2018206195942-s0001-1-1-0120-s_ffic.fits', begin='2018-07-25 20:07:20', end='2018-07-25 20:37:20')\n",
       "   TessImage(filename='tess2018206202942-s0001-1-1-0120-s_ffic.fits', begin='2018-07-25 20:37:20', end='2018-07-25 21:07:20')\n",
       "   TessImage(filename='tess2018206205942-s0001-1-1-0120-s_ffic.fits', begin='2018-07-25 21:07:20', end='2018-07-25 21:37:20')\n",
       "   ...\n",
       "   TessImage(filename='tess2018234135941-s0001-1-1-0120-s_ffic.fits', begin='2018-08-22 14:06:51', end='2018-08-22 14:36:51')\n",
       "   TessImage(filename='tess2018234142941-s0001-1-1-0120-s_ffic.fits', begin='2018-08-22 14:36:51', end='2018-08-22 15:06:51')\n",
       "   TessImage(filename='tess2018234145941-s0001-1-1-0120-s_ffic.fits', begin='2018-08-22 15:06:51', end='2018-08-22 15:36:51')\n",
       "   TessImage(filename='tess2018234152941-s0001-1-1-0120-s_ffic.fits', begin='2018-08-22 15:36:51', end='2018-08-22 16:06:51')]"
      ]
     },
     "execution_count": 14,
     "metadata": {},
     "output_type": "execute_result"
    }
   ],
   "source": [
    "from tess_locator import TessCoord\n",
    "TessCoord(sector=1, camera=1, ccd=1).get_images()"
   ]
  },
  {
   "cell_type": "markdown",
   "metadata": {},
   "source": [
    "## Future plans\n",
    "\n",
    "Three key areas of short-term development are:\n",
    "1. Add more tests.\n",
    "2. Adding a `cutout()` method (not sure yet if possible).\n",
    "3. Add FoV plotting features?"
   ]
  },
  {
   "cell_type": "markdown",
   "metadata": {},
   "source": [
    "## FAQ\n",
    "\n",
    "### How big is the offline data base?"
   ]
  },
  {
   "cell_type": "code",
   "execution_count": 15,
   "metadata": {},
   "outputs": [
    {
     "name": "stdout",
     "output_type": "stream",
     "text": [
      "12M\t/Users/gb/dev/tess-locator/src/tess_locator/data\n"
     ]
    }
   ],
   "source": [
    "from tess_locator import DATADIR\n",
    "!du -sh {DATADIR}"
   ]
  }
 ],
 "metadata": {
  "kernelspec": {
   "display_name": "Python 3",
   "language": "python",
   "name": "python3"
  },
  "language_info": {
   "codemirror_mode": {
    "name": "ipython",
    "version": 3
   },
   "file_extension": ".py",
   "mimetype": "text/x-python",
   "name": "python",
   "nbconvert_exporter": "python",
   "pygments_lexer": "ipython3",
   "version": "3.8.6"
  }
 },
 "nbformat": 4,
 "nbformat_minor": 4
}
