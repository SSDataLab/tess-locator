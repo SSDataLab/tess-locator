{
 "cells": [
  {
   "cell_type": "markdown",
   "metadata": {},
   "source": [
    "# Getting started with `tess-locator`\n",
    "\n",
    "The `tess-locator` package is a fast and user-friendly tool to query TESS pixel coordinates and FFI filenames in a fast way without requiring internet access.  It builds upon the existing [`tess-point`](https://github.com/christopherburke/tess-point) and `tess-cloud` packages."
   ]
  },
  {
   "cell_type": "markdown",
   "metadata": {},
   "source": [
    "## Example 1: Converting celestial to pixel coordinates\n",
    "\n",
    "The main feature of the package is the `locate()` function, which allows positions in the sky to be converted into TESS pixel coordinates.\n",
    "You can enter the Simbad name of an object:"
   ]
  },
  {
   "cell_type": "code",
   "execution_count": 1,
   "metadata": {},
   "outputs": [
    {
     "data": {
      "text/plain": [
       "List of 3 coordinates\n",
       " ↳[TessCoord(sector=11, camera=2, ccd=2, column=1699.1, row=1860.3, time=None)\n",
       "   TessCoord(sector=12, camera=2, ccd=1, column=359.9, row=1838.7, time=None)\n",
       "   TessCoord(sector=38, camera=2, ccd=2, column=941.1, row=1953.7, time=None)]"
      ]
     },
     "execution_count": 1,
     "metadata": {},
     "output_type": "execute_result"
    }
   ],
   "source": [
    "from tess_locator import locate\n",
    "locate(\"Alpha Cen\")"
   ]
  },
  {
   "cell_type": "markdown",
   "metadata": {},
   "source": [
    "You can pass an optional `time` or `sector` parameter if you are only interested in observations obtained at a specific time:"
   ]
  },
  {
   "cell_type": "code",
   "execution_count": 2,
   "metadata": {},
   "outputs": [
    {
     "data": {
      "text/plain": [
       "List of 1 coordinates\n",
       " ↳[TessCoord(sector=11, camera=2, ccd=2, column=1699.1, row=1860.3, time=2019-04-28 00:00:00)]"
      ]
     },
     "execution_count": 2,
     "metadata": {},
     "output_type": "execute_result"
    }
   ],
   "source": [
    "locate(\"Alpha Cen\", time=\"2019-04-28\")"
   ]
  },
  {
   "cell_type": "code",
   "execution_count": 3,
   "metadata": {},
   "outputs": [
    {
     "data": {
      "text/plain": [
       "List of 1 coordinates\n",
       " ↳[TessCoord(sector=12, camera=2, ccd=1, column=359.9, row=1838.7, time=None)]"
      ]
     },
     "execution_count": 3,
     "metadata": {},
     "output_type": "execute_result"
    }
   ],
   "source": [
    "locate(\"Alpha Cen\", sector=12)"
   ]
  },
  {
   "cell_type": "markdown",
   "metadata": {},
   "source": [
    "In addition to passing names, you can locate a custom `SkyCoord` object containing exact coordinates:"
   ]
  },
  {
   "cell_type": "code",
   "execution_count": 17,
   "metadata": {},
   "outputs": [
    {
     "data": {
      "text/plain": [
       "List of 1 coordinates\n",
       " ↳[TessCoord(sector=19, camera=2, ccd=2, column=355.3, row=1045.9, time=None)]"
      ]
     },
     "execution_count": 17,
     "metadata": {},
     "output_type": "execute_result"
    }
   ],
   "source": [
    "from astropy.coordinates import SkyCoord\n",
    "locate(SkyCoord(ra=60, dec=70, unit='deg'), sector=19)"
   ]
  },
  {
   "cell_type": "markdown",
   "metadata": {},
   "source": [
    "The *locate()* function returns a list of `TessCoord` objects which can be accessed using standard list and attribute syntax:"
   ]
  },
  {
   "cell_type": "code",
   "execution_count": 5,
   "metadata": {},
   "outputs": [
    {
     "data": {
      "text/plain": [
       "(11, 2, 2, 1699.0540739785683, 1860.2510951146114)"
      ]
     },
     "execution_count": 5,
     "metadata": {},
     "output_type": "execute_result"
    }
   ],
   "source": [
    "crd = locate(\"Alpha Cen\")[0]\n",
    "crd.sector, crd.camera, crd.ccd, crd.column, crd.row"
   ]
  },
  {
   "cell_type": "markdown",
   "metadata": {},
   "source": [
    "You can also access the coordinates as a Pandas DataFrame:"
   ]
  },
  {
   "cell_type": "code",
   "execution_count": 6,
   "metadata": {},
   "outputs": [
    {
     "data": {
      "text/html": [
       "<div>\n",
       "<style scoped>\n",
       "    .dataframe tbody tr th:only-of-type {\n",
       "        vertical-align: middle;\n",
       "    }\n",
       "\n",
       "    .dataframe tbody tr th {\n",
       "        vertical-align: top;\n",
       "    }\n",
       "\n",
       "    .dataframe thead th {\n",
       "        text-align: right;\n",
       "    }\n",
       "</style>\n",
       "<table border=\"1\" class=\"dataframe\">\n",
       "  <thead>\n",
       "    <tr style=\"text-align: right;\">\n",
       "      <th></th>\n",
       "      <th>sector</th>\n",
       "      <th>camera</th>\n",
       "      <th>ccd</th>\n",
       "      <th>column</th>\n",
       "      <th>row</th>\n",
       "    </tr>\n",
       "    <tr>\n",
       "      <th>time</th>\n",
       "      <th></th>\n",
       "      <th></th>\n",
       "      <th></th>\n",
       "      <th></th>\n",
       "      <th></th>\n",
       "    </tr>\n",
       "  </thead>\n",
       "  <tbody>\n",
       "    <tr>\n",
       "      <th>NaN</th>\n",
       "      <td>11</td>\n",
       "      <td>2</td>\n",
       "      <td>2</td>\n",
       "      <td>1699.054074</td>\n",
       "      <td>1860.251095</td>\n",
       "    </tr>\n",
       "    <tr>\n",
       "      <th>NaN</th>\n",
       "      <td>12</td>\n",
       "      <td>2</td>\n",
       "      <td>1</td>\n",
       "      <td>359.913650</td>\n",
       "      <td>1838.696320</td>\n",
       "    </tr>\n",
       "    <tr>\n",
       "      <th>NaN</th>\n",
       "      <td>38</td>\n",
       "      <td>2</td>\n",
       "      <td>2</td>\n",
       "      <td>941.057771</td>\n",
       "      <td>1953.665513</td>\n",
       "    </tr>\n",
       "  </tbody>\n",
       "</table>\n",
       "</div>"
      ],
      "text/plain": [
       "      sector  camera  ccd       column          row\n",
       "time                                               \n",
       "NaN       11       2    2  1699.054074  1860.251095\n",
       "NaN       12       2    1   359.913650  1838.696320\n",
       "NaN       38       2    2   941.057771  1953.665513"
      ]
     },
     "execution_count": 6,
     "metadata": {},
     "output_type": "execute_result"
    }
   ],
   "source": [
    "locate(\"Alpha Cen\").to_pandas()"
   ]
  },
  {
   "cell_type": "markdown",
   "metadata": {},
   "source": [
    "## Example 2: Accessing FFI filenames for a pixel coordinate\n",
    "\n",
    "When you have obtained a `TessCoord` object, you can use it to obtain a list of the TESS Full Frame Images (FFIs) which covered the position: "
   ]
  },
  {
   "cell_type": "code",
   "execution_count": 7,
   "metadata": {},
   "outputs": [
    {
     "data": {
      "text/plain": [
       "List of 1248 images\n",
       " ↳[TessImage(\"tess2019113062933-s0011-2-2-0143-s_ffic.fits\")\n",
       "   TessImage(\"tess2019113065933-s0011-2-2-0143-s_ffic.fits\")\n",
       "   TessImage(\"tess2019113072933-s0011-2-2-0143-s_ffic.fits\")\n",
       "   TessImage(\"tess2019113075933-s0011-2-2-0143-s_ffic.fits\")\n",
       "   ...\n",
       "   TessImage(\"tess2019140065932-s0011-2-2-0143-s_ffic.fits\")\n",
       "   TessImage(\"tess2019140072932-s0011-2-2-0143-s_ffic.fits\")\n",
       "   TessImage(\"tess2019140075932-s0011-2-2-0143-s_ffic.fits\")\n",
       "   TessImage(\"tess2019140082932-s0011-2-2-0143-s_ffic.fits\")]"
      ]
     },
     "execution_count": 7,
     "metadata": {},
     "output_type": "execute_result"
    }
   ],
   "source": [
    "crd.list_images()"
   ]
  },
  {
   "cell_type": "markdown",
   "metadata": {},
   "source": [
    "You can query the image list for a specific time:"
   ]
  },
  {
   "cell_type": "code",
   "execution_count": 8,
   "metadata": {},
   "outputs": [
    {
     "data": {
      "text/plain": [
       "List of 1 images\n",
       " ↳[TessImage(\"tess2019117232932-s0011-2-2-0143-s_ffic.fits\")]"
      ]
     },
     "execution_count": 8,
     "metadata": {},
     "output_type": "execute_result"
    }
   ],
   "source": [
    "crd.list_images(time=\"2019-04-28 00:00:00\")"
   ]
  },
  {
   "cell_type": "markdown",
   "metadata": {},
   "source": [
    "You can access the image attributes using standard syntax:"
   ]
  },
  {
   "cell_type": "code",
   "execution_count": 9,
   "metadata": {},
   "outputs": [
    {
     "data": {
      "text/plain": [
       "(11, 2, 2, '2019-04-27 23:49:50.000')"
      ]
     },
     "execution_count": 9,
     "metadata": {},
     "output_type": "execute_result"
    }
   ],
   "source": [
    "img = crd.list_images(time=\"2019-04-28 00:00:00\")[0]\n",
    "img.sector, img.camera, img.ccd, img.time"
   ]
  },
  {
   "cell_type": "markdown",
   "metadata": {},
   "source": [
    "You can also obtain the full URL of the image:"
   ]
  },
  {
   "cell_type": "code",
   "execution_count": 10,
   "metadata": {},
   "outputs": [
    {
     "data": {
      "text/plain": [
       "'s3://stpubdata/tess/public/ffi/s0011/2019/117/2-2/tess2019117232932-s0011-2-2-0143-s_ffic.fits'"
      ]
     },
     "execution_count": 10,
     "metadata": {},
     "output_type": "execute_result"
    }
   ],
   "source": [
    "img.url"
   ]
  },
  {
   "cell_type": "markdown",
   "metadata": {},
   "source": [
    "You can expert the image list as a Pandas DataFrame:"
   ]
  },
  {
   "cell_type": "code",
   "execution_count": 11,
   "metadata": {},
   "outputs": [
    {
     "data": {
      "text/html": [
       "<div>\n",
       "<style scoped>\n",
       "    .dataframe tbody tr th:only-of-type {\n",
       "        vertical-align: middle;\n",
       "    }\n",
       "\n",
       "    .dataframe tbody tr th {\n",
       "        vertical-align: top;\n",
       "    }\n",
       "\n",
       "    .dataframe thead th {\n",
       "        text-align: right;\n",
       "    }\n",
       "</style>\n",
       "<table border=\"1\" class=\"dataframe\">\n",
       "  <thead>\n",
       "    <tr style=\"text-align: right;\">\n",
       "      <th></th>\n",
       "      <th>url</th>\n",
       "      <th>sector</th>\n",
       "      <th>camera</th>\n",
       "      <th>ccd</th>\n",
       "      <th>time</th>\n",
       "      <th>cadenceno</th>\n",
       "      <th>quality</th>\n",
       "    </tr>\n",
       "  </thead>\n",
       "  <tbody>\n",
       "    <tr>\n",
       "      <th>0</th>\n",
       "      <td>s3://stpubdata/tess/public/ffi/s0011/2019/113/...</td>\n",
       "      <td>11</td>\n",
       "      <td>2</td>\n",
       "      <td>2</td>\n",
       "      <td>2019-04-23 06:49:41.000</td>\n",
       "      <td>0</td>\n",
       "      <td>32</td>\n",
       "    </tr>\n",
       "    <tr>\n",
       "      <th>1</th>\n",
       "      <td>s3://stpubdata/tess/public/ffi/s0011/2019/113/...</td>\n",
       "      <td>11</td>\n",
       "      <td>2</td>\n",
       "      <td>2</td>\n",
       "      <td>2019-04-23 07:19:41.000</td>\n",
       "      <td>0</td>\n",
       "      <td>0</td>\n",
       "    </tr>\n",
       "    <tr>\n",
       "      <th>2</th>\n",
       "      <td>s3://stpubdata/tess/public/ffi/s0011/2019/113/...</td>\n",
       "      <td>11</td>\n",
       "      <td>2</td>\n",
       "      <td>2</td>\n",
       "      <td>2019-04-23 07:49:41.000</td>\n",
       "      <td>0</td>\n",
       "      <td>0</td>\n",
       "    </tr>\n",
       "    <tr>\n",
       "      <th>3</th>\n",
       "      <td>s3://stpubdata/tess/public/ffi/s0011/2019/113/...</td>\n",
       "      <td>11</td>\n",
       "      <td>2</td>\n",
       "      <td>2</td>\n",
       "      <td>2019-04-23 08:19:41.000</td>\n",
       "      <td>0</td>\n",
       "      <td>0</td>\n",
       "    </tr>\n",
       "    <tr>\n",
       "      <th>4</th>\n",
       "      <td>s3://stpubdata/tess/public/ffi/s0011/2019/113/...</td>\n",
       "      <td>11</td>\n",
       "      <td>2</td>\n",
       "      <td>2</td>\n",
       "      <td>2019-04-23 08:49:41.000</td>\n",
       "      <td>0</td>\n",
       "      <td>0</td>\n",
       "    </tr>\n",
       "    <tr>\n",
       "      <th>...</th>\n",
       "      <td>...</td>\n",
       "      <td>...</td>\n",
       "      <td>...</td>\n",
       "      <td>...</td>\n",
       "      <td>...</td>\n",
       "      <td>...</td>\n",
       "      <td>...</td>\n",
       "    </tr>\n",
       "    <tr>\n",
       "      <th>1243</th>\n",
       "      <td>s3://stpubdata/tess/public/ffi/s0011/2019/140/...</td>\n",
       "      <td>11</td>\n",
       "      <td>2</td>\n",
       "      <td>2</td>\n",
       "      <td>2019-05-20 06:50:08.000</td>\n",
       "      <td>0</td>\n",
       "      <td>0</td>\n",
       "    </tr>\n",
       "    <tr>\n",
       "      <th>1244</th>\n",
       "      <td>s3://stpubdata/tess/public/ffi/s0011/2019/140/...</td>\n",
       "      <td>11</td>\n",
       "      <td>2</td>\n",
       "      <td>2</td>\n",
       "      <td>2019-05-20 07:20:08.000</td>\n",
       "      <td>0</td>\n",
       "      <td>0</td>\n",
       "    </tr>\n",
       "    <tr>\n",
       "      <th>1245</th>\n",
       "      <td>s3://stpubdata/tess/public/ffi/s0011/2019/140/...</td>\n",
       "      <td>11</td>\n",
       "      <td>2</td>\n",
       "      <td>2</td>\n",
       "      <td>2019-05-20 07:50:08.000</td>\n",
       "      <td>0</td>\n",
       "      <td>0</td>\n",
       "    </tr>\n",
       "    <tr>\n",
       "      <th>1246</th>\n",
       "      <td>s3://stpubdata/tess/public/ffi/s0011/2019/140/...</td>\n",
       "      <td>11</td>\n",
       "      <td>2</td>\n",
       "      <td>2</td>\n",
       "      <td>2019-05-20 08:20:08.000</td>\n",
       "      <td>0</td>\n",
       "      <td>0</td>\n",
       "    </tr>\n",
       "    <tr>\n",
       "      <th>1247</th>\n",
       "      <td>s3://stpubdata/tess/public/ffi/s0011/2019/140/...</td>\n",
       "      <td>11</td>\n",
       "      <td>2</td>\n",
       "      <td>2</td>\n",
       "      <td>2019-05-20 08:50:08.000</td>\n",
       "      <td>0</td>\n",
       "      <td>0</td>\n",
       "    </tr>\n",
       "  </tbody>\n",
       "</table>\n",
       "<p>1248 rows × 7 columns</p>\n",
       "</div>"
      ],
      "text/plain": [
       "                                                    url  sector  camera  ccd  \\\n",
       "0     s3://stpubdata/tess/public/ffi/s0011/2019/113/...      11       2    2   \n",
       "1     s3://stpubdata/tess/public/ffi/s0011/2019/113/...      11       2    2   \n",
       "2     s3://stpubdata/tess/public/ffi/s0011/2019/113/...      11       2    2   \n",
       "3     s3://stpubdata/tess/public/ffi/s0011/2019/113/...      11       2    2   \n",
       "4     s3://stpubdata/tess/public/ffi/s0011/2019/113/...      11       2    2   \n",
       "...                                                 ...     ...     ...  ...   \n",
       "1243  s3://stpubdata/tess/public/ffi/s0011/2019/140/...      11       2    2   \n",
       "1244  s3://stpubdata/tess/public/ffi/s0011/2019/140/...      11       2    2   \n",
       "1245  s3://stpubdata/tess/public/ffi/s0011/2019/140/...      11       2    2   \n",
       "1246  s3://stpubdata/tess/public/ffi/s0011/2019/140/...      11       2    2   \n",
       "1247  s3://stpubdata/tess/public/ffi/s0011/2019/140/...      11       2    2   \n",
       "\n",
       "                         time  cadenceno  quality  \n",
       "0     2019-04-23 06:49:41.000          0       32  \n",
       "1     2019-04-23 07:19:41.000          0        0  \n",
       "2     2019-04-23 07:49:41.000          0        0  \n",
       "3     2019-04-23 08:19:41.000          0        0  \n",
       "4     2019-04-23 08:49:41.000          0        0  \n",
       "...                       ...        ...      ...  \n",
       "1243  2019-05-20 06:50:08.000          0        0  \n",
       "1244  2019-05-20 07:20:08.000          0        0  \n",
       "1245  2019-05-20 07:50:08.000          0        0  \n",
       "1246  2019-05-20 08:20:08.000          0        0  \n",
       "1247  2019-05-20 08:50:08.000          0        0  \n",
       "\n",
       "[1248 rows x 7 columns]"
      ]
     },
     "execution_count": 11,
     "metadata": {},
     "output_type": "execute_result"
    }
   ],
   "source": [
    "crd.list_images().to_pandas()"
   ]
  },
  {
   "cell_type": "markdown",
   "metadata": {},
   "source": [
    "The full FFI file is often very big.  For this reason, the `TessImage` class also provides convenience methods to access exactly those parts of an image you need.\n",
    "\n",
    "For example, the `read_header` method gives you fast access to a FITS header by reading only the first few kilobytes of the file from the cloud:"
   ]
  },
  {
   "cell_type": "code",
   "execution_count": 12,
   "metadata": {},
   "outputs": [
    {
     "data": {
      "text/plain": [
       "astropy.io.fits.header.Header"
      ]
     },
     "execution_count": 12,
     "metadata": {},
     "output_type": "execute_result"
    }
   ],
   "source": [
    "hdr = img.read_header(ext=0)\n",
    "type(hdr)"
   ]
  },
  {
   "cell_type": "markdown",
   "metadata": {},
   "source": [
    "You can download the WCS in a similar way:"
   ]
  },
  {
   "cell_type": "code",
   "execution_count": 13,
   "metadata": {},
   "outputs": [
    {
     "data": {
      "text/plain": [
       "astropy.wcs.wcs.WCS"
      ]
     },
     "execution_count": 13,
     "metadata": {},
     "output_type": "execute_result"
    }
   ],
   "source": [
    "wcs = img.read_wcs()\n",
    "type(wcs)"
   ]
  },
  {
   "cell_type": "markdown",
   "metadata": {},
   "source": [
    "You can download a specific part of the image using the `cutout` method:"
   ]
  },
  {
   "cell_type": "code",
   "execution_count": 14,
   "metadata": {},
   "outputs": [
    {
     "data": {
      "text/plain": [
       "array([[603.30780029, 577.19464111, 533.54309082],\n",
       "       [575.7154541 , 556.78961182, 520.02966309],\n",
       "       [570.03234863, 512.32965088, 487.34893799]])"
      ]
     },
     "execution_count": 14,
     "metadata": {},
     "output_type": "execute_result"
    }
   ],
   "source": [
    "img.cutout(column=200, row=300, shape=(3, 3)).flux"
   ]
  },
  {
   "cell_type": "markdown",
   "metadata": {},
   "source": [
    "You do have the option to download the entire file using the `read` method, which returns an AstroPy FITS object:"
   ]
  },
  {
   "cell_type": "code",
   "execution_count": 15,
   "metadata": {},
   "outputs": [
    {
     "data": {
      "text/plain": [
       "[<astropy.io.fits.hdu.image.PrimaryHDU object at 0x150ed8fd0>, <astropy.io.fits.hdu.image.ImageHDU object at 0x150ed66d0>, <astropy.io.fits.hdu.image.ImageHDU object at 0x150e7fd60>]"
      ]
     },
     "execution_count": 15,
     "metadata": {},
     "output_type": "execute_result"
    }
   ],
   "source": [
    "img.read()"
   ]
  },
  {
   "cell_type": "markdown",
   "metadata": {},
   "source": [
    "## Example 3: Creating your own `TessCoord` object\n",
    "\n",
    "Note that you don't have to use the `locate` function to obtain a `TessCoord` object.  You can create your own as follows:"
   ]
  },
  {
   "cell_type": "code",
   "execution_count": 16,
   "metadata": {},
   "outputs": [
    {
     "data": {
      "text/plain": [
       "TessCoord(sector=1, camera=1, ccd=1, column=50.0, row=70.0, time=None)"
      ]
     },
     "execution_count": 16,
     "metadata": {},
     "output_type": "execute_result"
    }
   ],
   "source": [
    "from tess_locator import TessCoord\n",
    "TessCoord(sector=1, camera=1, ccd=1, column=50, row=70)"
   ]
  },
  {
   "cell_type": "markdown",
   "metadata": {},
   "source": [
    "## FAQ\n",
    "\n",
    "### How does this package differ from `tess-point`?\n",
    "\n",
    "`tess-locator` builds upon [`tess-point`](https://github.com/christopherburke/tess-point), i.e., `tess-point` is used behind the scenes for all transformations between pixel and celestial coordinates. Compared to `tess-point`, this package adds a user-friendly API, the ability to query positions by time (which is important for e.g. asteroids), and convenient access to FFI images.\n",
    "\n",
    "### How does this package relate to other packages?\n",
    "\n",
    "* [astroquery.mast](https://astroquery.readthedocs.io/en/latest/mast/mast.html) includes the excellent ``TesscutClass.get_sectors()`` method which queries a web API to inform you which sectors a position has been observed in. This package provides an offline version of that service, and adds the ability to query by time.\n",
    "* [tess-waldo](https://github.com/SimonJMurphy/tess-waldo) lets you visualize how a target moves over the detector across sectors. It queries the ``TessCut`` service to obtain this information. This package adds the ability to create such plots offline.\n"
   ]
  }
 ],
 "metadata": {
  "kernelspec": {
   "display_name": "Python 3",
   "language": "python",
   "name": "python3"
  },
  "language_info": {
   "codemirror_mode": {
    "name": "ipython",
    "version": 3
   },
   "file_extension": ".py",
   "mimetype": "text/x-python",
   "name": "python",
   "nbconvert_exporter": "python",
   "pygments_lexer": "ipython3",
   "version": "3.8.6"
  }
 },
 "nbformat": 4,
 "nbformat_minor": 4
}
